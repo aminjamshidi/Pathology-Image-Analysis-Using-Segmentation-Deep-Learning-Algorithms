{
  "nbformat": 4,
  "nbformat_minor": 0,
  "metadata": {
    "colab": {
      "name": "Copy of project4.ipynb",
      "provenance": [],
      "collapsed_sections": []
    },
    "kernelspec": {
      "name": "python3",
      "display_name": "Python 3"
    },
    "language_info": {
      "name": "python"
    },
    "accelerator": "GPU"
  },
  "cells": [
    {
      "cell_type": "markdown",
      "metadata": {
        "id": "HORzf5JTHHuz"
      },
      "source": [
        "در این قسمت کتاب خانه مربوط به معماری یونت را نصب می کنیم"
      ]
    },
    {
      "cell_type": "code",
      "metadata": {
        "colab": {
          "base_uri": "https://localhost:8080/"
        },
        "id": "h87NXLCnQFnk",
        "outputId": "6cbf934b-c014-4b6a-b314-bee84db22835"
      },
      "source": [
        "!pip install segmentation-models\n",
        "!pip install -U albumentations>=0.3.0 --user \n",
        "!pip install -U --pre segmentation-models --user"
      ],
      "execution_count": 1,
      "outputs": [
        {
          "output_type": "stream",
          "name": "stdout",
          "text": [
            "Collecting segmentation-models\n",
            "  Downloading segmentation_models-1.0.1-py3-none-any.whl (33 kB)\n",
            "Collecting image-classifiers==1.0.0\n",
            "  Downloading image_classifiers-1.0.0-py3-none-any.whl (19 kB)\n",
            "Collecting efficientnet==1.0.0\n",
            "  Downloading efficientnet-1.0.0-py3-none-any.whl (17 kB)\n",
            "Collecting keras-applications<=1.0.8,>=1.0.7\n",
            "  Downloading Keras_Applications-1.0.8-py3-none-any.whl (50 kB)\n",
            "\u001b[K     |████████████████████████████████| 50 kB 5.5 MB/s \n",
            "\u001b[?25hRequirement already satisfied: scikit-image in /usr/local/lib/python3.7/dist-packages (from efficientnet==1.0.0->segmentation-models) (0.16.2)\n",
            "Requirement already satisfied: h5py in /usr/local/lib/python3.7/dist-packages (from keras-applications<=1.0.8,>=1.0.7->segmentation-models) (3.1.0)\n",
            "Requirement already satisfied: numpy>=1.9.1 in /usr/local/lib/python3.7/dist-packages (from keras-applications<=1.0.8,>=1.0.7->segmentation-models) (1.19.5)\n",
            "Requirement already satisfied: cached-property in /usr/local/lib/python3.7/dist-packages (from h5py->keras-applications<=1.0.8,>=1.0.7->segmentation-models) (1.5.2)\n",
            "Requirement already satisfied: imageio>=2.3.0 in /usr/local/lib/python3.7/dist-packages (from scikit-image->efficientnet==1.0.0->segmentation-models) (2.4.1)\n",
            "Requirement already satisfied: matplotlib!=3.0.0,>=2.0.0 in /usr/local/lib/python3.7/dist-packages (from scikit-image->efficientnet==1.0.0->segmentation-models) (3.2.2)\n",
            "Requirement already satisfied: networkx>=2.0 in /usr/local/lib/python3.7/dist-packages (from scikit-image->efficientnet==1.0.0->segmentation-models) (2.6.2)\n",
            "Requirement already satisfied: pillow>=4.3.0 in /usr/local/lib/python3.7/dist-packages (from scikit-image->efficientnet==1.0.0->segmentation-models) (7.1.2)\n",
            "Requirement already satisfied: scipy>=0.19.0 in /usr/local/lib/python3.7/dist-packages (from scikit-image->efficientnet==1.0.0->segmentation-models) (1.4.1)\n",
            "Requirement already satisfied: PyWavelets>=0.4.0 in /usr/local/lib/python3.7/dist-packages (from scikit-image->efficientnet==1.0.0->segmentation-models) (1.1.1)\n",
            "Requirement already satisfied: kiwisolver>=1.0.1 in /usr/local/lib/python3.7/dist-packages (from matplotlib!=3.0.0,>=2.0.0->scikit-image->efficientnet==1.0.0->segmentation-models) (1.3.1)\n",
            "Requirement already satisfied: cycler>=0.10 in /usr/local/lib/python3.7/dist-packages (from matplotlib!=3.0.0,>=2.0.0->scikit-image->efficientnet==1.0.0->segmentation-models) (0.10.0)\n",
            "Requirement already satisfied: pyparsing!=2.0.4,!=2.1.2,!=2.1.6,>=2.0.1 in /usr/local/lib/python3.7/dist-packages (from matplotlib!=3.0.0,>=2.0.0->scikit-image->efficientnet==1.0.0->segmentation-models) (2.4.7)\n",
            "Requirement already satisfied: python-dateutil>=2.1 in /usr/local/lib/python3.7/dist-packages (from matplotlib!=3.0.0,>=2.0.0->scikit-image->efficientnet==1.0.0->segmentation-models) (2.8.2)\n",
            "Requirement already satisfied: six in /usr/local/lib/python3.7/dist-packages (from cycler>=0.10->matplotlib!=3.0.0,>=2.0.0->scikit-image->efficientnet==1.0.0->segmentation-models) (1.15.0)\n",
            "Installing collected packages: keras-applications, image-classifiers, efficientnet, segmentation-models\n",
            "Successfully installed efficientnet-1.0.0 image-classifiers-1.0.0 keras-applications-1.0.8 segmentation-models-1.0.1\n",
            "Requirement already satisfied: segmentation-models in /usr/local/lib/python3.7/dist-packages (1.0.1)\n",
            "Requirement already satisfied: image-classifiers==1.0.0 in /usr/local/lib/python3.7/dist-packages (from segmentation-models) (1.0.0)\n",
            "Requirement already satisfied: efficientnet==1.0.0 in /usr/local/lib/python3.7/dist-packages (from segmentation-models) (1.0.0)\n",
            "Requirement already satisfied: keras-applications<=1.0.8,>=1.0.7 in /usr/local/lib/python3.7/dist-packages (from segmentation-models) (1.0.8)\n",
            "Requirement already satisfied: scikit-image in /usr/local/lib/python3.7/dist-packages (from efficientnet==1.0.0->segmentation-models) (0.16.2)\n",
            "Requirement already satisfied: numpy>=1.9.1 in /usr/local/lib/python3.7/dist-packages (from keras-applications<=1.0.8,>=1.0.7->segmentation-models) (1.19.5)\n",
            "Requirement already satisfied: h5py in /usr/local/lib/python3.7/dist-packages (from keras-applications<=1.0.8,>=1.0.7->segmentation-models) (3.1.0)\n",
            "Requirement already satisfied: cached-property in /usr/local/lib/python3.7/dist-packages (from h5py->keras-applications<=1.0.8,>=1.0.7->segmentation-models) (1.5.2)\n",
            "Requirement already satisfied: imageio>=2.3.0 in /usr/local/lib/python3.7/dist-packages (from scikit-image->efficientnet==1.0.0->segmentation-models) (2.4.1)\n",
            "Requirement already satisfied: scipy>=0.19.0 in /usr/local/lib/python3.7/dist-packages (from scikit-image->efficientnet==1.0.0->segmentation-models) (1.4.1)\n",
            "Requirement already satisfied: pillow>=4.3.0 in /usr/local/lib/python3.7/dist-packages (from scikit-image->efficientnet==1.0.0->segmentation-models) (7.1.2)\n",
            "Requirement already satisfied: networkx>=2.0 in /usr/local/lib/python3.7/dist-packages (from scikit-image->efficientnet==1.0.0->segmentation-models) (2.6.2)\n",
            "Requirement already satisfied: matplotlib!=3.0.0,>=2.0.0 in /usr/local/lib/python3.7/dist-packages (from scikit-image->efficientnet==1.0.0->segmentation-models) (3.2.2)\n",
            "Requirement already satisfied: PyWavelets>=0.4.0 in /usr/local/lib/python3.7/dist-packages (from scikit-image->efficientnet==1.0.0->segmentation-models) (1.1.1)\n",
            "Requirement already satisfied: cycler>=0.10 in /usr/local/lib/python3.7/dist-packages (from matplotlib!=3.0.0,>=2.0.0->scikit-image->efficientnet==1.0.0->segmentation-models) (0.10.0)\n",
            "Requirement already satisfied: pyparsing!=2.0.4,!=2.1.2,!=2.1.6,>=2.0.1 in /usr/local/lib/python3.7/dist-packages (from matplotlib!=3.0.0,>=2.0.0->scikit-image->efficientnet==1.0.0->segmentation-models) (2.4.7)\n",
            "Requirement already satisfied: kiwisolver>=1.0.1 in /usr/local/lib/python3.7/dist-packages (from matplotlib!=3.0.0,>=2.0.0->scikit-image->efficientnet==1.0.0->segmentation-models) (1.3.1)\n",
            "Requirement already satisfied: python-dateutil>=2.1 in /usr/local/lib/python3.7/dist-packages (from matplotlib!=3.0.0,>=2.0.0->scikit-image->efficientnet==1.0.0->segmentation-models) (2.8.2)\n",
            "Requirement already satisfied: six in /usr/local/lib/python3.7/dist-packages (from cycler>=0.10->matplotlib!=3.0.0,>=2.0.0->scikit-image->efficientnet==1.0.0->segmentation-models) (1.15.0)\n"
          ]
        }
      ]
    },
    {
      "cell_type": "markdown",
      "metadata": {
        "id": "84dlCDqfHTe2"
      },
      "source": [
        "کتاب خانه های لازم را به کد اضافه می کنیم"
      ]
    },
    {
      "cell_type": "code",
      "metadata": {
        "id": "XiEflE4SXGwX"
      },
      "source": [
        "import os\n",
        "os.environ['CUDA_VISIBLE_DEVICES'] = '0'\n",
        "import cv2\n",
        "import keras\n",
        "import numpy as np\n",
        "import matplotlib.pyplot as plt\n",
        "from tensorflow.keras.utils import to_categorical"
      ],
      "execution_count": 2,
      "outputs": []
    },
    {
      "cell_type": "code",
      "metadata": {
        "id": "xQRLWJWjW8KH",
        "colab": {
          "base_uri": "https://localhost:8080/"
        },
        "outputId": "ed44f505-afba-407b-c4eb-df37bdaac144"
      },
      "source": [
        "from segmentation_models import Unet\n",
        "from segmentation_models import get_preprocessing\n",
        "from segmentation_models.losses import bce_jaccard_loss\n",
        "from segmentation_models.metrics import iou_score\n",
        "import keras.utils\n",
        "import segmentation_models as sm"
      ],
      "execution_count": 3,
      "outputs": [
        {
          "output_type": "stream",
          "name": "stdout",
          "text": [
            "Segmentation Models: using `keras` framework.\n"
          ]
        }
      ]
    },
    {
      "cell_type": "code",
      "metadata": {
        "colab": {
          "base_uri": "https://localhost:8080/",
          "height": 35
        },
        "id": "uEyN63F-XORf",
        "outputId": "e6577217-99ee-4aed-a831-b7befe897700"
      },
      "source": [
        "import segmentation_models as sm\n",
        "\n",
        "sm.set_framework('tf.keras')\n",
        "\n",
        "sm.framework()"
      ],
      "execution_count": 4,
      "outputs": [
        {
          "output_type": "execute_result",
          "data": {
            "application/vnd.google.colaboratory.intrinsic+json": {
              "type": "string"
            },
            "text/plain": [
              "'tf.keras'"
            ]
          },
          "metadata": {},
          "execution_count": 4
        }
      ]
    },
    {
      "cell_type": "code",
      "metadata": {
        "id": "9JeGLEtpXOT_"
      },
      "source": [
        "import os\n",
        "from glob import glob\n",
        "import scipy.io\n",
        "import numpy as np\n",
        "import cv2\n",
        "import matplotlib.pyplot as plt"
      ],
      "execution_count": 5,
      "outputs": []
    },
    {
      "cell_type": "markdown",
      "metadata": {
        "id": "Rlq-MjEMHcuf"
      },
      "source": [
        "در این قسمت دیتا را لود می کنیم"
      ]
    },
    {
      "cell_type": "code",
      "metadata": {
        "id": "sxBafwy9XOWv"
      },
      "source": [
        "st='/content/drive/MyDrive/CoNSeP/Train/Images/train_'"
      ],
      "execution_count": 6,
      "outputs": []
    },
    {
      "cell_type": "code",
      "metadata": {
        "id": "WEv3lAPJXOZW"
      },
      "source": [
        "input_image=[]\n",
        "for i in range(27):\n",
        "    temp=np.resize(cv2.imread(st+str(i+1)+'.png'),(320,320,3))\n",
        "    input_image.append(temp)"
      ],
      "execution_count": 7,
      "outputs": []
    },
    {
      "cell_type": "code",
      "metadata": {
        "id": "yHgSLYdwXrhY"
      },
      "source": [
        "st='/content/drive/MyDrive/CoNSeP/Train/Labels/train_'"
      ],
      "execution_count": 8,
      "outputs": []
    },
    {
      "cell_type": "code",
      "metadata": {
        "id": "8vJLzfwQXtdn"
      },
      "source": [
        "out_image=[]\n",
        "for i in range(27):\n",
        "    mats=scipy.io.loadmat(st+str(i+1)+'.mat')\n",
        "    temp=np.resize(mats['type_map'],(320,320))\n",
        "    out_image.append(temp)"
      ],
      "execution_count": 9,
      "outputs": []
    },
    {
      "cell_type": "markdown",
      "metadata": {
        "id": "UrmMMIkBHonM"
      },
      "source": [
        "از این تابع برای آگمت کردن دیتا استفاده می کنیم که به ازای هر عکس  سه عکس دریافت میکنم\n",
        "شامل فلیپ کردن و روتیت  هر عکس"
      ]
    },
    {
      "cell_type": "code",
      "metadata": {
        "id": "z_AVB820BI2M"
      },
      "source": [
        "import cv2 as cv\n",
        "def data_agmenting(x_train, y_train):\n",
        "  new_x_train = list()\n",
        "  new_y_train = list()\n",
        "  for i in range(27):\n",
        "      new_x_train.append(cv2.rotate(x_train[i],cv.cv2.ROTATE_90_CLOCKWISE))\n",
        "      new_y_train.append(cv2.rotate(y_train[i],cv.cv2.ROTATE_90_CLOCKWISE))\n",
        "      new_x_train.append(cv2.flip(x_train[i],0))\n",
        "      new_y_train.append(cv2.flip(y_train[i],0))\n",
        "      new_x_train.append(cv2.flip(x_train[i],1))\n",
        "      new_y_train.append(cv2.flip(y_train[i],1))\n",
        "  return new_x_train, new_y_train"
      ],
      "execution_count": null,
      "outputs": []
    },
    {
      "cell_type": "code",
      "metadata": {
        "id": "MgDUp4OGBI5E"
      },
      "source": [
        "new_x_train, new_y_train=data_agmenting(input_image,out_image)"
      ],
      "execution_count": null,
      "outputs": []
    },
    {
      "cell_type": "code",
      "metadata": {
        "id": "504608MfCJuC"
      },
      "source": [
        "i=input_image+new_x_train\n",
        "o=out_image+new_y_train"
      ],
      "execution_count": 10,
      "outputs": []
    },
    {
      "cell_type": "code",
      "metadata": {
        "id": "1VrjHvLoXtg2"
      },
      "source": [
        "x_train=np.array(i)\n",
        "y_train=np.array(o)"
      ],
      "execution_count": 11,
      "outputs": []
    },
    {
      "cell_type": "markdown",
      "metadata": {
        "id": "7ki8cHWOIH72"
      },
      "source": [
        "چون که لیبل خروجی شامل 8 کلاس است نیاز داریم تا لیبل های خروجی را one hot کنیم"
      ]
    },
    {
      "cell_type": "code",
      "metadata": {
        "id": "Nu83QhqueXif"
      },
      "source": [
        "y_=to_categorical(y_train)"
      ],
      "execution_count": 12,
      "outputs": []
    },
    {
      "cell_type": "markdown",
      "metadata": {
        "id": "AQIulb_WInHp"
      },
      "source": [
        "در این قسمت دیتا ولیدیشن و ترین را جدا میکنیم برای تنظیم هایپر پارامتر ها"
      ]
    },
    {
      "cell_type": "code",
      "metadata": {
        "id": "06kWolyEXtje"
      },
      "source": [
        "from sklearn.model_selection import train_test_split"
      ],
      "execution_count": null,
      "outputs": []
    },
    {
      "cell_type": "code",
      "metadata": {
        "id": "kwfCM8aLXtmH"
      },
      "source": [
        "X_train, X_val, Y_train, Y_val = train_test_split(x_train, y_, test_size=0.15,shuffle=False)"
      ],
      "execution_count": null,
      "outputs": []
    },
    {
      "cell_type": "markdown",
      "metadata": {
        "id": "ucVHzaeQIz6f"
      },
      "source": [
        "در اینجا مدل را می سازیم"
      ]
    },
    {
      "cell_type": "code",
      "metadata": {
        "id": "TgKKX3NuYmiX"
      },
      "source": [
        "BACKBONE = 'resnet152'\n",
        "preprocess_input = sm.get_preprocessing(BACKBONE)"
      ],
      "execution_count": 14,
      "outputs": []
    },
    {
      "cell_type": "code",
      "metadata": {
        "id": "BQlPC0prYtGe"
      },
      "source": [
        "X_train = preprocess_input(X_train)\n",
        "X_val = preprocess_input(X_val)"
      ],
      "execution_count": null,
      "outputs": []
    },
    {
      "cell_type": "code",
      "metadata": {
        "id": "DPv_0a9AYtJF",
        "colab": {
          "base_uri": "https://localhost:8080/"
        },
        "outputId": "bf5ae2f7-aac6-438e-c42d-9c3f040bf05d"
      },
      "source": [
        "model = sm.Unet(BACKBONE,input_shape=(320,320,3),classes=8,activation='softmax',encoder_weights='imagenet',encoder_freeze=True)"
      ],
      "execution_count": 15,
      "outputs": [
        {
          "output_type": "stream",
          "name": "stdout",
          "text": [
            "Downloading data from https://github.com/qubvel/classification_models/releases/download/0.0.1/resnet152_imagenet_1000_no_top.h5\n",
            "234332160/234326024 [==============================] - 9s 0us/step\n",
            "234340352/234326024 [==============================] - 9s 0us/step\n"
          ]
        }
      ]
    },
    {
      "cell_type": "code",
      "metadata": {
        "id": "OWUgV9EFYtLw"
      },
      "source": [
        "import tensorflow as tf\n",
        "from tensorflow.keras.optimizers import Adam"
      ],
      "execution_count": 16,
      "outputs": []
    },
    {
      "cell_type": "code",
      "metadata": {
        "id": "zL7A-EplYtON"
      },
      "source": [
        "LR = 0.0001\n",
        "optim = tf.keras.optimizers.Adam(LR)"
      ],
      "execution_count": 17,
      "outputs": []
    },
    {
      "cell_type": "code",
      "metadata": {
        "id": "yGXvMOa2YmlO"
      },
      "source": [
        "dice_loss = sm.losses.DiceLoss()\n",
        "focal_loss = sm.losses.BinaryFocalLoss()\n",
        "total_loss = dice_loss + (1 * focal_loss)"
      ],
      "execution_count": 18,
      "outputs": []
    },
    {
      "cell_type": "code",
      "metadata": {
        "id": "6KxTG_IebCG7"
      },
      "source": [
        "metrics = [sm.metrics.IOUScore(threshold=0.5), sm.metrics.FScore(threshold=0.5)]"
      ],
      "execution_count": 19,
      "outputs": []
    },
    {
      "cell_type": "code",
      "metadata": {
        "id": "bGKzEUXXbCKS"
      },
      "source": [
        "model.compile(optim, total_loss, metrics)"
      ],
      "execution_count": 20,
      "outputs": []
    },
    {
      "cell_type": "code",
      "metadata": {
        "id": "yXKGUeJ6YmoF",
        "colab": {
          "base_uri": "https://localhost:8080/"
        },
        "outputId": "3b30b238-ac86-4122-a3ad-73d334aa732d"
      },
      "source": [
        "model.fit(x=X_train,\n",
        "    y=Y_train,\n",
        "    batch_size=2,\n",
        "    epochs=30,\n",
        "    validation_data=(X_val, Y_val),\n",
        ")"
      ],
      "execution_count": null,
      "outputs": [
        {
          "output_type": "stream",
          "name": "stdout",
          "text": [
            "Epoch 1/30\n",
            "46/46 [==============================] - 79s 569ms/step - loss: 0.9714 - iou_score: 0.2121 - f1-score: 0.2194 - val_loss: 0.9465 - val_iou_score: 0.6599 - val_f1-score: 0.6767\n",
            "Epoch 2/30\n",
            "46/46 [==============================] - 21s 450ms/step - loss: 0.9405 - iou_score: 0.4357 - f1-score: 0.4518 - val_loss: 0.9408 - val_iou_score: 0.6692 - val_f1-score: 0.6880\n",
            "Epoch 3/30\n",
            "46/46 [==============================] - 21s 449ms/step - loss: 0.9215 - iou_score: 0.4989 - f1-score: 0.5198 - val_loss: 0.9229 - val_iou_score: 0.6914 - val_f1-score: 0.7099\n",
            "Epoch 4/30\n",
            "46/46 [==============================] - 21s 448ms/step - loss: 0.9089 - iou_score: 0.4934 - f1-score: 0.5119 - val_loss: 0.9122 - val_iou_score: 0.7128 - val_f1-score: 0.7253\n",
            "Epoch 5/30\n",
            "46/46 [==============================] - 21s 449ms/step - loss: 0.9002 - iou_score: 0.5235 - f1-score: 0.5385 - val_loss: 0.9111 - val_iou_score: 0.7055 - val_f1-score: 0.7168\n",
            "Epoch 6/30\n",
            "46/46 [==============================] - 21s 449ms/step - loss: 0.8942 - iou_score: 0.4727 - f1-score: 0.4867 - val_loss: 0.9062 - val_iou_score: 0.7177 - val_f1-score: 0.7270\n",
            "Epoch 7/30\n",
            "46/46 [==============================] - 21s 448ms/step - loss: 0.8914 - iou_score: 0.4772 - f1-score: 0.4908 - val_loss: 0.9024 - val_iou_score: 0.6637 - val_f1-score: 0.6733\n",
            "Epoch 8/30\n",
            "46/46 [==============================] - 19s 421ms/step - loss: 0.8879 - iou_score: 0.4687 - f1-score: 0.4824 - val_loss: 0.8992 - val_iou_score: 0.7118 - val_f1-score: 0.7200\n",
            "Epoch 9/30\n",
            "46/46 [==============================] - 19s 422ms/step - loss: 0.8841 - iou_score: 0.4827 - f1-score: 0.4959 - val_loss: 0.8987 - val_iou_score: 0.6538 - val_f1-score: 0.6623\n",
            "Epoch 10/30\n",
            "46/46 [==============================] - 21s 448ms/step - loss: 0.8846 - iou_score: 0.4840 - f1-score: 0.4984 - val_loss: 0.8999 - val_iou_score: 0.6396 - val_f1-score: 0.6495\n",
            "Epoch 11/30\n",
            "46/46 [==============================] - 19s 421ms/step - loss: 0.8828 - iou_score: 0.4828 - f1-score: 0.4966 - val_loss: 0.8922 - val_iou_score: 0.6861 - val_f1-score: 0.6943\n",
            "Epoch 12/30\n",
            "46/46 [==============================] - 20s 447ms/step - loss: 0.8775 - iou_score: 0.4762 - f1-score: 0.4912 - val_loss: 0.8873 - val_iou_score: 0.6948 - val_f1-score: 0.7006\n",
            "Epoch 13/30\n",
            "46/46 [==============================] - 19s 422ms/step - loss: 0.8732 - iou_score: 0.4863 - f1-score: 0.5029 - val_loss: 0.8898 - val_iou_score: 0.6534 - val_f1-score: 0.6592\n",
            "Epoch 14/30\n",
            "46/46 [==============================] - 19s 423ms/step - loss: 0.8761 - iou_score: 0.4770 - f1-score: 0.4931 - val_loss: 0.8889 - val_iou_score: 0.6556 - val_f1-score: 0.6606\n",
            "Epoch 15/30\n",
            "46/46 [==============================] - 21s 448ms/step - loss: 0.8727 - iou_score: 0.4681 - f1-score: 0.4856 - val_loss: 0.8887 - val_iou_score: 0.6693 - val_f1-score: 0.6743\n",
            "Epoch 16/30\n",
            "46/46 [==============================] - 21s 448ms/step - loss: 0.8726 - iou_score: 0.4778 - f1-score: 0.4958 - val_loss: 0.8855 - val_iou_score: 0.6665 - val_f1-score: 0.6725\n",
            "Epoch 17/30\n",
            "46/46 [==============================] - 19s 423ms/step - loss: 0.8676 - iou_score: 0.4852 - f1-score: 0.5061 - val_loss: 0.8880 - val_iou_score: 0.6700 - val_f1-score: 0.6750\n",
            "Epoch 18/30\n",
            "46/46 [==============================] - 19s 423ms/step - loss: 0.8708 - iou_score: 0.4728 - f1-score: 0.4932 - val_loss: 0.8855 - val_iou_score: 0.6696 - val_f1-score: 0.6779\n",
            "Epoch 19/30\n",
            "46/46 [==============================] - 21s 448ms/step - loss: 0.8707 - iou_score: 0.4804 - f1-score: 0.5017 - val_loss: 0.8925 - val_iou_score: 0.6689 - val_f1-score: 0.6748\n",
            "Epoch 20/30\n",
            "46/46 [==============================] - 21s 448ms/step - loss: 0.8664 - iou_score: 0.4928 - f1-score: 0.5168 - val_loss: 0.8823 - val_iou_score: 0.6598 - val_f1-score: 0.6709\n",
            "Epoch 21/30\n",
            "46/46 [==============================] - 19s 424ms/step - loss: 0.8614 - iou_score: 0.4746 - f1-score: 0.5011 - val_loss: 0.8768 - val_iou_score: 0.6626 - val_f1-score: 0.6723\n",
            "Epoch 22/30\n",
            "46/46 [==============================] - 19s 424ms/step - loss: 0.8683 - iou_score: 0.4747 - f1-score: 0.4982 - val_loss: 0.8806 - val_iou_score: 0.6652 - val_f1-score: 0.6760\n",
            "Epoch 23/30\n",
            "46/46 [==============================] - 21s 449ms/step - loss: 0.8608 - iou_score: 0.4559 - f1-score: 0.4825 - val_loss: 0.8765 - val_iou_score: 0.6665 - val_f1-score: 0.6782\n",
            "Epoch 24/30\n",
            "46/46 [==============================] - 19s 422ms/step - loss: 0.8634 - iou_score: 0.4738 - f1-score: 0.4992 - val_loss: 0.8853 - val_iou_score: 0.6496 - val_f1-score: 0.6591\n",
            "Epoch 25/30\n",
            "46/46 [==============================] - 21s 448ms/step - loss: 0.8633 - iou_score: 0.4497 - f1-score: 0.4747 - val_loss: 0.8881 - val_iou_score: 0.6582 - val_f1-score: 0.6645\n",
            "Epoch 26/30\n",
            "46/46 [==============================] - 19s 423ms/step - loss: 0.8609 - iou_score: 0.4236 - f1-score: 0.4501 - val_loss: 0.8816 - val_iou_score: 0.6366 - val_f1-score: 0.6468\n",
            "Epoch 27/30\n",
            "46/46 [==============================] - 21s 448ms/step - loss: 0.8609 - iou_score: 0.4159 - f1-score: 0.4422 - val_loss: 0.8805 - val_iou_score: 0.6355 - val_f1-score: 0.6470\n",
            "Epoch 28/30\n",
            "46/46 [==============================] - 19s 421ms/step - loss: 0.8528 - iou_score: 0.4113 - f1-score: 0.4391 - val_loss: 0.8820 - val_iou_score: 0.6306 - val_f1-score: 0.6379\n",
            "Epoch 29/30\n",
            "46/46 [==============================] - 21s 448ms/step - loss: 0.8530 - iou_score: 0.4114 - f1-score: 0.4411 - val_loss: 0.8832 - val_iou_score: 0.6056 - val_f1-score: 0.6162\n",
            "Epoch 30/30\n",
            "46/46 [==============================] - 19s 422ms/step - loss: 0.8504 - iou_score: 0.3993 - f1-score: 0.4282 - val_loss: 0.8815 - val_iou_score: 0.6034 - val_f1-score: 0.6110\n"
          ]
        },
        {
          "output_type": "execute_result",
          "data": {
            "text/plain": [
              "<keras.callbacks.History at 0x7fb086dadc10>"
            ]
          },
          "metadata": {},
          "execution_count": 75
        }
      ]
    },
    {
      "cell_type": "code",
      "metadata": {
        "id": "BRS-shGSYmtN"
      },
      "source": [
        "st='/content/drive/MyDrive/CoNSeP/Test/Images/test_'"
      ],
      "execution_count": 21,
      "outputs": []
    },
    {
      "cell_type": "code",
      "metadata": {
        "id": "t6ANgnTag5Bt"
      },
      "source": [
        "input_image=[]\n",
        "for i in range(14):\n",
        "    temp=np.resize(cv2.imread(st+str(i+1)+'.png'),(320,320,3))\n",
        "    input_image.append(temp)"
      ],
      "execution_count": 22,
      "outputs": []
    },
    {
      "cell_type": "code",
      "metadata": {
        "id": "YnD7SPG_g5EM"
      },
      "source": [
        "st='/content/drive/MyDrive/CoNSeP/Test/Labels/test_'"
      ],
      "execution_count": 23,
      "outputs": []
    },
    {
      "cell_type": "code",
      "metadata": {
        "id": "Oo50rTQrg5HE"
      },
      "source": [
        "out_image=[]\n",
        "for i in range(14):\n",
        "    mats=scipy.io.loadmat(st+str(i+1)+'.mat')\n",
        "    temp=np.resize(mats['type_map'],(320,320))\n",
        "    out_image.append(temp)"
      ],
      "execution_count": 24,
      "outputs": []
    },
    {
      "cell_type": "code",
      "metadata": {
        "id": "UKSG2llKieEM"
      },
      "source": [
        "x=np.array(input_image)\n",
        "y=np.array(out_image)"
      ],
      "execution_count": 25,
      "outputs": []
    },
    {
      "cell_type": "code",
      "metadata": {
        "id": "vbjfNATQieG7"
      },
      "source": [
        "_y=to_categorical(y)"
      ],
      "execution_count": 26,
      "outputs": []
    },
    {
      "cell_type": "code",
      "metadata": {
        "id": "QHEXCoRCieMc",
        "colab": {
          "base_uri": "https://localhost:8080/"
        },
        "outputId": "6093c32e-60df-4478-d7e0-839c95420d70"
      },
      "source": [
        "x_train.shape"
      ],
      "execution_count": null,
      "outputs": [
        {
          "output_type": "execute_result",
          "data": {
            "text/plain": [
              "(108, 320, 320, 3)"
            ]
          },
          "metadata": {},
          "execution_count": 105
        }
      ]
    },
    {
      "cell_type": "code",
      "metadata": {
        "id": "K2hCUoUQiePK",
        "colab": {
          "base_uri": "https://localhost:8080/"
        },
        "outputId": "329ed282-f9c6-4302-fc0f-5e7dd3560231"
      },
      "source": [
        "history=model.fit(x=x_train,\n",
        "    y=y_,\n",
        "    batch_size=2,\n",
        "    epochs=20,\n",
        "    validation_data=(x, _y),)\n"
      ],
      "execution_count": 34,
      "outputs": [
        {
          "output_type": "stream",
          "name": "stdout",
          "text": [
            "Epoch 1/20\n",
            "14/14 [==============================] - 7s 476ms/step - loss: 0.8628 - iou_score: 0.4824 - f1-score: 0.5019 - val_loss: 0.8736 - val_iou_score: 0.4004 - val_f1-score: 0.4155\n",
            "Epoch 2/20\n",
            "14/14 [==============================] - 6s 454ms/step - loss: 0.8680 - iou_score: 0.4823 - f1-score: 0.5012 - val_loss: 0.8747 - val_iou_score: 0.4014 - val_f1-score: 0.4220\n",
            "Epoch 3/20\n",
            "14/14 [==============================] - 6s 469ms/step - loss: 0.8611 - iou_score: 0.4769 - f1-score: 0.4966 - val_loss: 0.8701 - val_iou_score: 0.4043 - val_f1-score: 0.4201\n",
            "Epoch 4/20\n",
            "14/14 [==============================] - 6s 470ms/step - loss: 0.8615 - iou_score: 0.4716 - f1-score: 0.4933 - val_loss: 0.8702 - val_iou_score: 0.4026 - val_f1-score: 0.4170\n",
            "Epoch 5/20\n",
            "14/14 [==============================] - 6s 469ms/step - loss: 0.8646 - iou_score: 0.4684 - f1-score: 0.4888 - val_loss: 0.8696 - val_iou_score: 0.4032 - val_f1-score: 0.4198\n",
            "Epoch 6/20\n",
            "14/14 [==============================] - 6s 469ms/step - loss: 0.8673 - iou_score: 0.4487 - f1-score: 0.4671 - val_loss: 0.8683 - val_iou_score: 0.4085 - val_f1-score: 0.4280\n",
            "Epoch 7/20\n",
            "14/14 [==============================] - 6s 456ms/step - loss: 0.8640 - iou_score: 0.4581 - f1-score: 0.4801 - val_loss: 0.8676 - val_iou_score: 0.4081 - val_f1-score: 0.4224\n",
            "Epoch 8/20\n",
            "14/14 [==============================] - 6s 455ms/step - loss: 0.8608 - iou_score: 0.4274 - f1-score: 0.4488 - val_loss: 0.8676 - val_iou_score: 0.4137 - val_f1-score: 0.4352\n",
            "Epoch 9/20\n",
            "14/14 [==============================] - 6s 455ms/step - loss: 0.8573 - iou_score: 0.4114 - f1-score: 0.4332 - val_loss: 0.8669 - val_iou_score: 0.4108 - val_f1-score: 0.4342\n",
            "Epoch 10/20\n",
            "14/14 [==============================] - 6s 454ms/step - loss: 0.8609 - iou_score: 0.4158 - f1-score: 0.4366 - val_loss: 0.8640 - val_iou_score: 0.4101 - val_f1-score: 0.4286\n",
            "Epoch 11/20\n",
            "14/14 [==============================] - 6s 453ms/step - loss: 0.8622 - iou_score: 0.4251 - f1-score: 0.4462 - val_loss: 0.8632 - val_iou_score: 0.4098 - val_f1-score: 0.4275\n",
            "Epoch 12/20\n",
            "14/14 [==============================] - 6s 455ms/step - loss: 0.8512 - iou_score: 0.4181 - f1-score: 0.4429 - val_loss: 0.8632 - val_iou_score: 0.4096 - val_f1-score: 0.4276\n",
            "Epoch 13/20\n",
            "14/14 [==============================] - 6s 470ms/step - loss: 0.8463 - iou_score: 0.4295 - f1-score: 0.4545 - val_loss: 0.8624 - val_iou_score: 0.4171 - val_f1-score: 0.4385\n",
            "Epoch 14/20\n",
            "14/14 [==============================] - 6s 455ms/step - loss: 0.8552 - iou_score: 0.4204 - f1-score: 0.4469 - val_loss: 0.8668 - val_iou_score: 0.4010 - val_f1-score: 0.4176\n",
            "Epoch 15/20\n",
            "14/14 [==============================] - 6s 469ms/step - loss: 0.8467 - iou_score: 0.4231 - f1-score: 0.4503 - val_loss: 0.8650 - val_iou_score: 0.3897 - val_f1-score: 0.4048\n",
            "Epoch 16/20\n",
            "14/14 [==============================] - 6s 454ms/step - loss: 0.8473 - iou_score: 0.4381 - f1-score: 0.4662 - val_loss: 0.8670 - val_iou_score: 0.3877 - val_f1-score: 0.4027\n",
            "Epoch 17/20\n",
            "14/14 [==============================] - 6s 469ms/step - loss: 0.8430 - iou_score: 0.4436 - f1-score: 0.4716 - val_loss: 0.8642 - val_iou_score: 0.4104 - val_f1-score: 0.4270\n",
            "Epoch 18/20\n",
            "14/14 [==============================] - 6s 469ms/step - loss: 0.8443 - iou_score: 0.4406 - f1-score: 0.4717 - val_loss: 0.8676 - val_iou_score: 0.4073 - val_f1-score: 0.4229\n",
            "Epoch 19/20\n",
            "14/14 [==============================] - 6s 456ms/step - loss: 0.8479 - iou_score: 0.4379 - f1-score: 0.4683 - val_loss: 0.8678 - val_iou_score: 0.3744 - val_f1-score: 0.3916\n",
            "Epoch 20/20\n",
            "14/14 [==============================] - 6s 455ms/step - loss: 0.8415 - iou_score: 0.4321 - f1-score: 0.4632 - val_loss: 0.8666 - val_iou_score: 0.4124 - val_f1-score: 0.4338\n"
          ]
        }
      ]
    },
    {
      "cell_type": "code",
      "metadata": {
        "id": "q2vSK9ST9KlD"
      },
      "source": [
        "for l in model.layers:\n",
        "  l.trainable = True"
      ],
      "execution_count": 33,
      "outputs": []
    },
    {
      "cell_type": "code",
      "metadata": {
        "colab": {
          "base_uri": "https://localhost:8080/",
          "height": 231
        },
        "id": "Jr5zzvAflenS",
        "outputId": "e498b092-08bd-42f0-f42d-d5af14716f9e"
      },
      "source": [
        "# Plot training & validation iou_score values\n",
        "plt.figure(figsize=(30, 5))\n",
        "plt.subplot(121)\n",
        "plt.plot(history.history['iou_score'])\n",
        "plt.plot(history.history['val_iou_score'])\n",
        "plt.title('Model iou_score')\n",
        "plt.ylabel('iou_score')\n",
        "plt.xlabel('Epoch')\n",
        "plt.legend(['Train', 'Test'], loc='upper left')\n",
        "\n",
        "# Plot training & validation loss values\n",
        "plt.subplot(122)\n",
        "plt.plot(history.history['loss'])\n",
        "plt.plot(history.history['val_loss'])\n",
        "plt.title('Model loss')\n",
        "plt.ylabel('Loss')\n",
        "plt.xlabel('Epoch')\n",
        "plt.legend(['Train', 'Test'], loc='upper left')\n",
        "plt.show()"
      ],
      "execution_count": 35,
      "outputs": [
        {
          "output_type": "display_data",
          "data": {
            "image/png": "[encoded data removed]",
            "text/plain": [
              "<Figure size 2160x360 with 2 Axes>"
            ]
          },
          "metadata": {
            "needs_background": "light"
          }
        }
      ]
    },
    {
      "cell_type": "code",
      "metadata": {
        "id": "zHyFBuhySOpt"
      },
      "source": [
        "u=model.predict(x)\n",
        "y_pred = np.argmax(u, axis=-1)"
      ],
      "execution_count": 37,
      "outputs": []
    },
    {
      "cell_type": "code",
      "metadata": {
        "id": "zbF0XalSUqBc"
      },
      "source": [
        "EPS=1e-12\n",
        "def get_iou(gt, pr, n_classes):\n",
        "    class_wise = np.zeros(n_classes)\n",
        "    for cl in range(n_classes):\n",
        "        intersection = np.sum((gt == cl)*(pr == cl))\n",
        "        union = np.sum(np.maximum((gt == cl), (pr == cl)))\n",
        "        iou = float(intersection)/(union + EPS)\n",
        "        class_wise[cl] = iou\n",
        "    return class_wise\n"
      ],
      "execution_count": 38,
      "outputs": []
    },
    {
      "cell_type": "code",
      "metadata": {
        "id": "PaWLWyV9U-IH"
      },
      "source": [
        "all_iou = get_iou(y, y_pred, 8)"
      ],
      "execution_count": 39,
      "outputs": []
    },
    {
      "cell_type": "code",
      "metadata": {
        "colab": {
          "base_uri": "https://localhost:8080/"
        },
        "id": "ZnGsxKFPVZhE",
        "outputId": "5d2cfb2b-b2ae-4582-a75c-de00608e9c8d"
      },
      "source": [
        "all_iou"
      ],
      "execution_count": 40,
      "outputs": [
        {
          "output_type": "execute_result",
          "data": {
            "text/plain": [
              "array([8.19606682e-01, 0.00000000e+00, 6.08695652e-02, 3.38764863e-05,\n",
              "       5.32683006e-02, 1.32112143e-01, 1.51041667e-03, 0.00000000e+00])"
            ]
          },
          "metadata": {},
          "execution_count": 40
        }
      ]
    },
    {
      "cell_type": "code",
      "metadata": {
        "id": "JZXEwdqVVi0j"
      },
      "source": [
        "import sys\n",
        "def get_dice(Y_test, Y_pred, num_class):\n",
        "\n",
        "  total_dice = np.zeros((num_class,))\n",
        "\n",
        "  for i in range(num_class):\n",
        "    for j in range(Y_test.shape[0]):\n",
        "      total_dice[i] += (2 * np.sum(Y_pred[j][Y_test[j] == i] == i)) / (np.sum(Y_pred[j] == i) + np.sum(Y_test[j] == i))\n",
        "    if np.isnan(total_dice[i]):\n",
        "      total_dice[i] = 0\n",
        "  total_dice = (total_dice / Y_test.shape[0]).astype(float)\n",
        "\n",
        "  return total_dice"
      ],
      "execution_count": 41,
      "outputs": []
    },
    {
      "cell_type": "code",
      "metadata": {
        "colab": {
          "base_uri": "https://localhost:8080/"
        },
        "id": "6W5ME9YxVi-K",
        "outputId": "4cb2a959-db0a-4fa4-9d4d-2ce06e8331dc"
      },
      "source": [
        "all_dic=get_dice(y, y_pred, 8)"
      ],
      "execution_count": 42,
      "outputs": [
        {
          "output_type": "stream",
          "name": "stderr",
          "text": [
            "/usr/local/lib/python3.7/dist-packages/ipykernel_launcher.py:8: RuntimeWarning: invalid value encountered in long_scalars\n",
            "  \n"
          ]
        }
      ]
    },
    {
      "cell_type": "code",
      "metadata": {
        "colab": {
          "base_uri": "https://localhost:8080/"
        },
        "id": "2Jyn_PvmVzgN",
        "outputId": "96e5893a-d884-400c-d4e6-2afb76d4216b"
      },
      "source": [
        "all_dic"
      ],
      "execution_count": 43,
      "outputs": [
        {
          "output_type": "execute_result",
          "data": {
            "text/plain": [
              "array([0.89541033, 0.        , 0.10348327, 0.        , 0.04976073,\n",
              "       0.20936416, 0.        , 0.        ])"
            ]
          },
          "metadata": {},
          "execution_count": 43
        }
      ]
    },
    {
      "cell_type": "code",
      "metadata": {
        "id": "Im86jcf4V9OU"
      },
      "source": [
        "h=y.reshape((14,-1))\n",
        "h_pred=y_pred.reshape((14,-1))"
      ],
      "execution_count": 44,
      "outputs": []
    },
    {
      "cell_type": "code",
      "metadata": {
        "id": "tL-IuIWjT4Om"
      },
      "source": [
        "from sklearn.metrics import accuracy_score"
      ],
      "execution_count": 45,
      "outputs": []
    },
    {
      "cell_type": "code",
      "metadata": {
        "colab": {
          "base_uri": "https://localhost:8080/"
        },
        "id": "GREFBR0xUChv",
        "outputId": "8c8181d5-6101-488e-81f7-bb354b72b3e9"
      },
      "source": [
        "sum=0\n",
        "\n",
        "for i in range(14):\n",
        "  sum=sum+accuracy_score(h[i], h_pred[i])\n",
        "\n",
        "sum/14\n"
      ],
      "execution_count": 46,
      "outputs": [
        {
          "output_type": "execute_result",
          "data": {
            "text/plain": [
              "0.7613434709821428"
            ]
          },
          "metadata": {},
          "execution_count": 46
        }
      ]
    },
    {
      "cell_type": "code",
      "metadata": {
        "id": "aV9haVI9UCnV"
      },
      "source": [
        "from sklearn.metrics import confusion_matrix\n",
        "import itertools\n",
        "\n",
        "total_cm = np.zeros((8,8)).astype(float)\n",
        "for i in range(14):\n",
        "  cm = confusion_matrix(y_true=h[i], y_pred=h_pred[i])\n",
        "  for i in range(8):\n",
        "    for j in range(8):\n",
        "      try:\n",
        "        total_cm[i][j] += cm[i][j]\n",
        "      except:\n",
        "        pass\n",
        "\n",
        "total_cm = total_cm / 14\n",
        "total_cm = total_cm.astype(float)\n",
        "label_names = ['0', '1', '2', '3', '4', '5', '6', '7']"
      ],
      "execution_count": 47,
      "outputs": []
    },
    {
      "cell_type": "code",
      "metadata": {
        "colab": {
          "base_uri": "https://localhost:8080/",
          "height": 599
        },
        "id": "WrDqZa3LXUEs",
        "outputId": "677b3628-9125-417c-b803-72c5f17a788a"
      },
      "source": [
        "import seaborn as sns\n",
        "labels=['0', '1', '2', '3', '4', '5', '6', '7']\n",
        "\n",
        "figure = plt.figure(figsize=(8,8))\n",
        "sns.heatmap(total_cm, annot=True,cmap=plt.cm.Blues, xticklabels=labels, yticklabels=labels)\n",
        "plt.tight_layout()\n",
        "plt.ylabel('True label')\n",
        "plt.xlabel('Predicted label')\n",
        "plt.show()"
      ],
      "execution_count": 48,
      "outputs": [
        {
          "output_type": "display_data",
          "data": {
            "image/png": "[encoded data removed]",
            "text/plain": [
              "<Figure size 576x576 with 2 Axes>"
            ]
          },
          "metadata": {
            "needs_background": "light"
          }
        }
      ]
    },
    {
      "cell_type": "code",
      "metadata": {
        "id": "P0Q3zLvhXUHe"
      },
      "source": [
        ""
      ],
      "execution_count": null,
      "outputs": []
    },
    {
      "cell_type": "code",
      "metadata": {
        "id": "DCKh_TciFJDv"
      },
      "source": [
        ""
      ],
      "execution_count": null,
      "outputs": []
    },
    {
      "cell_type": "code",
      "metadata": {
        "id": "J9cMUDE7FJGQ"
      },
      "source": [
        ""
      ],
      "execution_count": null,
      "outputs": []
    },
    {
      "cell_type": "code",
      "metadata": {
        "id": "cS_bKyqSFJJD"
      },
      "source": [
        ""
      ],
      "execution_count": null,
      "outputs": []
    }
  ]
}